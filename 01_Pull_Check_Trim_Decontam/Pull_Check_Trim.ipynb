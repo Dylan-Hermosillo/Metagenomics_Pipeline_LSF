{
 "cells": [
  {
   "cell_type": "markdown",
   "id": "594b3779",
   "metadata": {},
   "source": [
    "# Metagenomic Pipeline (Section I - Pull, Check, Trim, Decontam)\n",
    "\n",
    "This pipeline is section 1 of a metagnomics pipeline. It involves four steps:\n",
    "\n",
    "1) Pulling data from accession ID's through Sequence Read Archive from NCBI using the SRA Toolkit\n",
    "2) Checking the quality of the reads through FASTQC\n",
    "3) Trimming adapters through TRIMMOMATIC\n",
    "4) Removing human contamination by aligning to a human genome and removing via BOWTIE"
   ]
  },
  {
   "cell_type": "markdown",
   "id": "8910b95e",
   "metadata": {},
   "source": [
    "## Config File\n",
    "\n",
    "Config files are used to ensure pipeline is agnostic to the user needs -- change what you need in the config file to run the pipeline on your data.\n",
    "\n",
    "NEEDS:\n",
    "\n",
    "* File containing SRR/ERR accession numbers\n",
    "* Directory Structure\n",
    "* Containers for specific tools\n",
    "* Adapter file\n",
    "* Genome alignment file \n",
    "\n",
    "We're using a specific illumina adapter trim file and a human genome, but this pipeline can be changed to use any adapter removal file and any genome reference. "
   ]
  },
  {
   "cell_type": "markdown",
   "id": "51ce5415",
   "metadata": {},
   "source": []
  }
 ],
 "metadata": {
  "language_info": {
   "name": "python"
  }
 },
 "nbformat": 4,
 "nbformat_minor": 5
}
